{
 "cells": [
  {
   "cell_type": "code",
   "execution_count": 2,
   "metadata": {},
   "outputs": [
    {
     "name": "stdout",
     "output_type": "stream",
     "text": [
      "Extracted 18715878 text chunks.\n"
     ]
    }
   ],
   "source": [
    "import xml.etree.ElementTree as ET\n",
    "from tqdm import tqdm\n",
    "\n",
    "def parse_xml(file_path):\n",
    "    context = ET.iterparse(file_path, events=('start', 'end'))\n",
    "    context = iter(context)\n",
    "    event, root = next(context)\n",
    "    text_chunks = []\n",
    "    for event, elem in context:\n",
    "        if event == 'end' and elem.tag == '{http://www.mediawiki.org/xml/export-0.11/}page':\n",
    "            revision = elem.find('{http://www.mediawiki.org/xml/export-0.11/}revision')\n",
    "            if revision is not None:\n",
    "                text_elem = revision.find('{http://www.mediawiki.org/xml/export-0.11/}text')\n",
    "                if text_elem is not None and text_elem.text is not None:\n",
    "                    chunks = [text_elem.text[i:i+500] for i in range(0, len(text_elem.text), 500)]\n",
    "                    text_chunks.extend(chunks)\n",
    "            root.clear()  # Clear the root to free memory\n",
    "    return text_chunks\n",
    "\n",
    "file_path = 'dumps/jawiki-latest-pages-articles.xml'\n",
    "text_chunks = parse_xml(file_path)\n",
    "\n",
    "print(f\"Extracted {len(text_chunks)} text chunks.\")\n"
   ]
  },
  {
   "cell_type": "code",
   "execution_count": 7,
   "metadata": {},
   "outputs": [
    {
     "name": "stdout",
     "output_type": "stream",
     "text": [
      "['これ', 'は', 'テスト', 'です', '。']\n"
     ]
    }
   ],
   "source": [
    "from transformers import AutoTokenizer\n",
    "\n",
    "tokenizer = AutoTokenizer.from_pretrained(\"cl-tohoku/bert-base-japanese\")\n",
    "\n",
    "sample_text = \"これはテストです。\"\n",
    "tokens = tokenizer.tokenize(sample_text)\n",
    "print(tokens)\n"
   ]
  },
  {
   "cell_type": "code",
   "execution_count": null,
   "metadata": {},
   "outputs": [],
   "source": []
  }
 ],
 "metadata": {
  "kernelspec": {
   "display_name": "Python 3",
   "language": "python",
   "name": "python3"
  },
  "language_info": {
   "codemirror_mode": {
    "name": "ipython",
    "version": 3
   },
   "file_extension": ".py",
   "mimetype": "text/x-python",
   "name": "python",
   "nbconvert_exporter": "python",
   "pygments_lexer": "ipython3",
   "version": "3.10.0"
  }
 },
 "nbformat": 4,
 "nbformat_minor": 2
}
